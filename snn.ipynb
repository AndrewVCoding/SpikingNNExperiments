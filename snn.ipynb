{
 "cells": [
  {
   "cell_type": "markdown",
   "metadata": {},
   "source": [
    "# Simple Spiking Neural Network (SNN)"
   ]
  },
  {
   "cell_type": "markdown",
   "metadata": {
    "collapsed": true
   },
   "source": [
    "The aim of this project is to create a very simple spiking neural network, with the focus being on acheiving some specific behaviors:\n",
    "\n",
    "* Graded potentials\n",
    "\tThe neuron be able to receive small inputs that change its membrane potential\n",
    "* Action potentials\n",
    "\tWhen the membrane potential reaches the AP Treshold, it should generate a spike that is passed along to other neurons\n",
    "* Refractory period\n",
    "\tAfter generating a spike, the membrane potential should return to its resting potential and should be more resistant to input potentials for some amount of time\n",
    "* Neuron fatigue\n",
    "\tA strong enough input to the neuron should generate several action potentials followed by a longer, and more resiliant, refractory period"
   ]
  },
  {
   "cell_type": "markdown",
   "metadata": {},
   "source": [
    "# Library imports"
   ]
  },
  {
   "cell_type": "code",
   "execution_count": 5,
   "metadata": {},
   "outputs": [],
   "source": [
    "import matplotlib.pyplot as plt\n",
    "import matplotlib.animation as animation\n",
    "import numpy as np"
   ]
  },
  {
   "cell_type": "markdown",
   "metadata": {},
   "source": [
    "# Defining the Neuron"
   ]
  },
  {
   "cell_type": "markdown",
   "metadata": {},
   "source": [
    "In a real neuron, various different ions within the cell determine its membrane potential, most notable Sodium and Potasium. Sodium provides a negative charge and Potassium provides a positive charge. Across the membrane of the neuron are different channels that allow the passage of ions into and out of the cell, either passively or actively, such as the Sodium/Pottasium pump, which pumps out two Pottasium ions and brings in one Sodium ion. There are many more ions involved, but this simple model will only utilize generic positive and negative ions which I'll refer to as Sodium and Pottasium respectively so that future projects may more easily build off of this one by adding more ion types."
   ]
  }
 ],
 "metadata": {
  "kernelspec": {
   "display_name": "Python 3",
   "language": "python",
   "name": "python3"
  },
  "language_info": {
   "codemirror_mode": {
    "name": "ipython",
    "version": 3
   },
   "file_extension": ".py",
   "mimetype": "text/x-python",
   "name": "python",
   "nbconvert_exporter": "python",
   "pygments_lexer": "ipython3",
   "version": "3.7.2"
  }
 },
 "nbformat": 4,
 "nbformat_minor": 1
}
